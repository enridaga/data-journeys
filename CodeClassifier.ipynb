{
 "cells": [
  {
   "cell_type": "code",
   "execution_count": 36,
   "metadata": {},
   "outputs": [],
   "source": [
    "from transformers import AutoTokenizer, AutoModelForMaskedLM, pipeline\n",
    "import torch\n",
    "from sklearn import linear_model\n",
    "import sklearn\n",
    "import numpy as np"
   ]
  },
  {
   "cell_type": "code",
   "execution_count": 22,
   "metadata": {},
   "outputs": [],
   "source": [
    "tokenizer = AutoTokenizer.from_pretrained(\"huggingface/CodeBERTa-small-v1\") \n",
    "#model = AutoModelForSequenceClassification.from_pretrained(\"huggingface/CodeBERTa-small-v1\")\n",
    "model = AutoModelForMaskedLM.from_pretrained(\"huggingface/CodeBERTa-small-v1\")"
   ]
  },
  {
   "cell_type": "code",
   "execution_count": 110,
   "metadata": {},
   "outputs": [],
   "source": [
    "entities = ['axes(0)$0','axes(0)$1','sentence(0)$1', 'next_chars(0)$1', 'sentence(0)$1']\n",
    "entities_tokenize = tokenizer(entities, return_tensors=\"pt\", padding=True, max_length=12, add_special_tokens=True)\n",
    "#entities_embed = torch.flatten(model(entities_tokenize.input_ids)[0], start_dim=1).detach().numpy()\n",
    "entities_embed = model(entities_tokenize.input_ids)[0].prod(dim=1).detach().numpy() \n",
    "#can also use sum - what does this mean?\n",
    "entity_classes = [\":Visualisation\", \":Visualisation\", \":Preparation\", \":Preparation\", \":Preparation\"]"
   ]
  },
  {
   "cell_type": "code",
   "execution_count": 111,
   "metadata": {},
   "outputs": [],
   "source": [
    "X_train, X_test, y_train, y_test = sklearn.model_selection.train_test_split(entities_embed, entity_classes, train_size = 0.8)"
   ]
  },
  {
   "cell_type": "code",
   "execution_count": 112,
   "metadata": {},
   "outputs": [
    {
     "data": {
      "text/plain": [
       "torch.Size([5, 52000])"
      ]
     },
     "execution_count": 112,
     "metadata": {},
     "output_type": "execute_result"
    }
   ],
   "source": [
    "model(entities_tokenize.input_ids)[0].sum(dim=1).shape"
   ]
  },
  {
   "cell_type": "code",
   "execution_count": 113,
   "metadata": {},
   "outputs": [
    {
     "data": {
      "text/plain": [
       "[('axes(0)$0',\n",
       "  array([ 2.5949137e+01, -1.2741293e+09, -2.6546636e-01, ...,\n",
       "         -7.1670234e+03, -8.4931490e+06, -5.4967488e+04], dtype=float32),\n",
       "  ':Visualisation'),\n",
       " ('axes(0)$1',\n",
       "  array([ 6.0571175e+00, -8.6412717e+08, -4.1860542e-01, ...,\n",
       "         -6.4152856e+02, -5.1567290e+06, -5.0530387e+04], dtype=float32),\n",
       "  ':Visualisation'),\n",
       " ('sentence(0)$1',\n",
       "  array([-8.1347668e-01, -1.3302588e+09, -1.2532225e+01, ...,\n",
       "         -4.3899370e+03, -6.0681981e+05, -3.1451916e+04], dtype=float32),\n",
       "  ':Preparation'),\n",
       " ('next_chars(0)$1',\n",
       "  array([-6.2126046e-01, -3.9284653e+08,  8.3298569e+00, ...,\n",
       "         -3.4356030e+03, -5.9399312e+05, -3.2863914e+03], dtype=float32),\n",
       "  ':Preparation'),\n",
       " ('sentence(0)$1',\n",
       "  array([-8.1345499e-01, -1.3302589e+09, -1.2532226e+01, ...,\n",
       "         -4.3899395e+03, -6.0682012e+05, -3.1451877e+04], dtype=float32),\n",
       "  ':Preparation')]"
      ]
     },
     "execution_count": 113,
     "metadata": {},
     "output_type": "execute_result"
    }
   ],
   "source": [
    "list(zip(entities, entities_embed, entity_classes))"
   ]
  },
  {
   "cell_type": "code",
   "execution_count": 98,
   "metadata": {},
   "outputs": [
    {
     "data": {
      "text/plain": [
       "(4, 468000)"
      ]
     },
     "execution_count": 98,
     "metadata": {},
     "output_type": "execute_result"
    }
   ],
   "source": [
    "X_train."
   ]
  },
  {
   "cell_type": "code",
   "execution_count": 80,
   "metadata": {},
   "outputs": [
    {
     "data": {
      "text/plain": [
       "array([[ 1.502286 , -9.33396  ,  0.5626838, ..., -1.3566533, -4.358929 ,\n",
       "        -2.6980436]], dtype=float32)"
      ]
     },
     "execution_count": 80,
     "metadata": {},
     "output_type": "execute_result"
    }
   ],
   "source": []
  },
  {
   "cell_type": "code",
   "execution_count": 70,
   "metadata": {},
   "outputs": [
    {
     "data": {
      "text/plain": [
       "52000"
      ]
     },
     "execution_count": 70,
     "metadata": {},
     "output_type": "execute_result"
    }
   ],
   "source": [
    "ny"
   ]
  },
  {
   "cell_type": "code",
   "execution_count": 106,
   "metadata": {},
   "outputs": [
    {
     "data": {
      "text/plain": [
       "[(array([ -5.170274, -94.27469 ,  -4.342989, ..., -27.743105, -41.4804  ,\n",
       "         -29.981155], dtype=float32),\n",
       "  ':Preparation')]"
      ]
     },
     "execution_count": 106,
     "metadata": {},
     "output_type": "execute_result"
    }
   ],
   "source": [
    "clf = linear_model.LogisticRegression(random_state=0)\n",
    "clf.fit(X_train, y_train)\n",
    "list(zip(X_test,clf.predict(X_test)))\n",
    "\n"
   ]
  },
  {
   "cell_type": "code",
   "execution_count": null,
   "metadata": {},
   "outputs": [],
   "source": []
  }
 ],
 "metadata": {
  "kernelspec": {
   "display_name": "Python 3",
   "language": "python",
   "name": "python3"
  },
  "language_info": {
   "codemirror_mode": {
    "name": "ipython",
    "version": 3
   },
   "file_extension": ".py",
   "mimetype": "text/x-python",
   "name": "python",
   "nbconvert_exporter": "python",
   "pygments_lexer": "ipython3",
   "version": "3.8.10"
  }
 },
 "nbformat": 4,
 "nbformat_minor": 4
}
