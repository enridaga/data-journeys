{
 "cells": [
  {
   "cell_type": "code",
   "execution_count": 10,
   "metadata": {},
   "outputs": [],
   "source": []
  },
  {
   "cell_type": "code",
   "execution_count": null,
   "metadata": {
    "provenance": [
     {
      "end_time": "Unknown",
      "execution_time": "Unknown",
      "outputs": [],
      "source": "",
      "start_time": "Unknown"
     }
    ]
   },
   "outputs": [],
   "source": [
    "# Activity rules"
   ]
  },
  {
   "cell_type": "code",
   "execution_count": 3,
   "metadata": {
    "provenance": [
     {
      "end_time": "Unknown",
      "execution_time": "Unknown",
      "outputs": [],
      "source": "",
      "start_time": "Unknown"
     }
    ]
   },
   "outputs": [],
   "source": [
    "import csv\n",
    "import os\n",
    "import json\n",
    "file = csv.reader(open('Data Journeys_ imports statements - ARCS_RULES.csv'), delimiter=',')\n",
    "first = True\n",
    "queries = []\n",
    "prefixes = \"PREFIX rdfs: <http://www.w3.org/2000/01/rdf-schema#> \\\n",
    "PREFIX owl:  <http://www.w3.org/2002/07/owl#> \\\n",
    "PREFIX dj:   <http://purl.org/dj/> \\\n",
    "PREFIX : <http://purl.org/datajourneys/> \\\n",
    "\"\n",
    "for line in file:\n",
    "    if(first):\n",
    "        first = False\n",
    "        continue;\n",
    "    arc = line[0]\n",
    "#     print(arc[:-1])\n",
    "    stype = line[3]\n",
    "    ptype = line[4]\n",
    "    otype = line[5]\n",
    "    activity = line[6]\n",
    "    if activity:\n",
    "        qa = prefixes + \" CONSTRUCT { ?s :hasActivity %s } WHERE { ?s \" % activity\n",
    "        qa += \" %s ?o . \" % arc\n",
    "        qa += \"} \"\n",
    "#         print(qa)\n",
    "        queries.append(qa)\n",
    "\n",
    "with open('activity_rules.json', mode='wt', encoding='utf-8') as myfile:\n",
    "    json.dump(queries, myfile)"
   ]
  },
  {
   "cell_type": "code",
   "execution_count": null,
   "metadata": {},
   "outputs": [],
   "source": [
    "# The following is future work!!!\n",
    "# import csv\n",
    "# import os\n",
    "# import json\n",
    "\n",
    "# file = csv.reader(open('Data Journeys_ imports statements - ARCS_RULES.csv'), delimiter=',')\n",
    "# first = True\n",
    "# queries = []\n",
    "# prefixes = \"PREFIX rdfs: <http://www.w3.org/2000/01/rdf-schema#> \\\n",
    "# PREFIX owl:  <http://www.w3.org/2002/07/owl#> \\\n",
    "# PREFIX dj:   <http://purl.org/dj/> \\\n",
    "# PREFIX : <http://purl.org/datajourneys/> \\\n",
    "# \"\n",
    "# # META QUERIES\n",
    "# # { ?x a :Input } <- { ?s :appearsIn [] . ?s :assignedFrom ?x }\n",
    "# queries.append(prefixes + \" CONSTRUCT { ?x a :Input } WHERE { ?s dj:appearsIn [] . ?s dj:assignedFrom ?x }\")\n",
    "# # { ?x a :Parameter } <- { ?s :appearsIn [] . FILTER NOT EXISTS { ?s :assignedFrom/:importedBy [] } }\n",
    "# queries.append(prefixes + \" CONSTRUCT { ?x a :Parameter } WHERE { ?s dj:appearsIn [] . FILTER NOT EXISTS { ?s dj:assignedFrom/dj:importedBy [] }}\")\n",
    "# # { ?x a :Support } <- { ?s :assignedFrom/:importedBy [] }\n",
    "# queries.append(prefixes + \" CONSTRUCT { ?x a :Support } WHERE { ?s dj:assignedFrom/dj:importedBy [] }\")\n",
    "# for line in file:\n",
    "#     if(first):\n",
    "#         first = False\n",
    "#         continue;\n",
    "#     arc = line[0]\n",
    "# #     print(arc[:-1])\n",
    "#     stype = line[3]\n",
    "#     ptype = line[4]\n",
    "#     otype = line[5]\n",
    "#     activity = line[6]\n",
    "#     if stype:\n",
    "#         queries.append(prefixes + \" CONSTRUCT { ?s a %s } WHERE { ?s %s [] } \" % (stype, arc))\n",
    "#     if ptype:\n",
    "#         queries.append(prefixes + \" CONSTRUCT { %s rdfs:subPropertyOf %s } WHERE { [] %s [] } \" % (arc, ptype, arc))\n",
    "#     if otype:\n",
    "#         queries.append(prefixes + \" CONSTRUCT { ?o a %s } WHERE { [] %s ?o } \" % (otype, arc))\n",
    "#     if activity:\n",
    "#         qa = prefixes + \" CONSTRUCT { [] a %s ; rdf:subject ?s ; rdf:predicate ?p ; rdf:object ?o } WHERE { ?s \" % activity\n",
    "#         qa += \" ?s %s ?o . \" % arc\n",
    "#         if stype:\n",
    "#             # add stype constraint\n",
    "#             qa += \"?s a %s .\" % stype\n",
    "#         if otype:\n",
    "#             # add otype constraint\n",
    "#             qa += \"?o a %s .\" % otype\n",
    "#         qa += \"} \"\n",
    "# #         print(qa)\n",
    "#         queries.append(qa)\n",
    "\n",
    "# with open('meta_rules.json', mode='wt', encoding='utf-8') as myfile:\n",
    "#     json.dump(queries, myfile)"
   ]
  }
 ],
 "metadata": {
  "kernelspec": {
   "display_name": "Python 3",
   "language": "python",
   "name": "python3"
  },
  "language_info": {
   "codemirror_mode": {
    "name": "ipython",
    "version": 3
   },
   "file_extension": ".py",
   "mimetype": "text/x-python",
   "name": "python",
   "nbconvert_exporter": "python",
   "pygments_lexer": "ipython3",
   "version": "3.8.10"
  }
 },
 "nbformat": 4,
 "nbformat_minor": 4
}
